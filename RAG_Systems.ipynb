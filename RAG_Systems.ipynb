{
  "nbformat": 4,
  "nbformat_minor": 0,
  "metadata": {
    "colab": {
      "provenance": [],
      "authorship_tag": "ABX9TyPJN5JaidSpCOT533uixOLp",
      "include_colab_link": true
    },
    "kernelspec": {
      "name": "python3",
      "display_name": "Python 3"
    },
    "language_info": {
      "name": "python"
    }
  },
  "cells": [
    {
      "cell_type": "markdown",
      "metadata": {
        "id": "view-in-github",
        "colab_type": "text"
      },
      "source": [
        "<a href=\"https://colab.research.google.com/github/stealthwhizz/whizz.ai/blob/main/RAG_Systems.ipynb\" target=\"_parent\"><img src=\"https://colab.research.google.com/assets/colab-badge.svg\" alt=\"Open In Colab\"/></a>"
      ]
    },
    {
      "cell_type": "markdown",
      "source": [
        "To access the requirement.txt file, go to File and click on Open.\n",
        "\n",
        "\n",
        "requirements file\n",
        "\n",
        "note which revision of python, for example 3.9.6\n",
        "\n",
        "in this file, insert all the pip install needs, include revision\n",
        "\n",
        "for example:\n",
        "torch==2.0.1\n",
        "\n",
        "matplotlib==3.7.2\n",
        "\n",
        "python-dotenv==1.0.0\n",
        "\n",
        "numpy==1.25.2\n",
        "\n",
        "pandas==2.1.3\n",
        "\n",
        "scikit-learn==1.3.2\n",
        "\n",
        "sentence-transformers==2.2.2\n",
        "\n",
        "matplotlib==3.8.2\n",
        "\n",
        "torch==2.1.1\n",
        "\n",
        "\n",
        "langchain==0.0.346\n",
        "\n",
        "openai==0.28.1 ## From the notebooks\n",
        "\n",
        "pinecone-client==3.0.0dev4\n",
        "\n",
        "pinecone-datasets==0.5.0rc11\n",
        "\n",
        "pinecone-text==0.7.1\n",
        "\n",
        "tiktoken==0.5.2\n",
        "tqdm==4.66.1\n",
        "\n",
        "datasets==2.15.0\n",
        "deepface==0.0.79\n"
      ],
      "metadata": {
        "id": "Z3wKHRccX44a"
      }
    },
    {
      "cell_type": "code",
      "execution_count": 1,
      "metadata": {
        "id": "e4gG7Qjpxnfl"
      },
      "outputs": [],
      "source": [
        "import warnings\n",
        "warnings.filterwarnings('ignore')"
      ]
    },
    {
      "cell_type": "code",
      "source": [
        "from datasets import load_dataset\n",
        "from sentence_transformers import SentenceTransformer\n",
        "from pinecone import Pinecone, ServerlessSpec\n",
        "from DLAIUtils import Utils\n",
        "import DLAIUtils\n",
        "\n",
        "import os\n",
        "import time\n",
        "import torch"
      ],
      "metadata": {
        "colab": {
          "base_uri": "https://localhost:8080/",
          "height": 385
        },
        "id": "wa14zlWQtUBT",
        "outputId": "b3e33780-d43f-4bd5-aaf4-cf0dc6b561b8"
      },
      "execution_count": 2,
      "outputs": [
        {
          "output_type": "error",
          "ename": "ModuleNotFoundError",
          "evalue": "No module named 'pinecone'",
          "traceback": [
            "\u001b[0;31m---------------------------------------------------------------------------\u001b[0m",
            "\u001b[0;31mModuleNotFoundError\u001b[0m                       Traceback (most recent call last)",
            "\u001b[0;32m/tmp/ipython-input-2-2213603126.py\u001b[0m in \u001b[0;36m<cell line: 0>\u001b[0;34m()\u001b[0m\n\u001b[1;32m      1\u001b[0m \u001b[0;32mfrom\u001b[0m \u001b[0mdatasets\u001b[0m \u001b[0;32mimport\u001b[0m \u001b[0mload_dataset\u001b[0m\u001b[0;34m\u001b[0m\u001b[0;34m\u001b[0m\u001b[0m\n\u001b[1;32m      2\u001b[0m \u001b[0;32mfrom\u001b[0m \u001b[0msentence_transformers\u001b[0m \u001b[0;32mimport\u001b[0m \u001b[0mSentenceTransformer\u001b[0m\u001b[0;34m\u001b[0m\u001b[0;34m\u001b[0m\u001b[0m\n\u001b[0;32m----> 3\u001b[0;31m \u001b[0;32mfrom\u001b[0m \u001b[0mpinecone\u001b[0m \u001b[0;32mimport\u001b[0m \u001b[0mPinecone\u001b[0m\u001b[0;34m,\u001b[0m \u001b[0mServerlessSpec\u001b[0m\u001b[0;34m\u001b[0m\u001b[0;34m\u001b[0m\u001b[0m\n\u001b[0m\u001b[1;32m      4\u001b[0m \u001b[0;32mfrom\u001b[0m \u001b[0mDLAIUtils\u001b[0m \u001b[0;32mimport\u001b[0m \u001b[0mUtils\u001b[0m\u001b[0;34m\u001b[0m\u001b[0;34m\u001b[0m\u001b[0m\n\u001b[1;32m      5\u001b[0m \u001b[0;32mimport\u001b[0m \u001b[0mDLAIUtils\u001b[0m\u001b[0;34m\u001b[0m\u001b[0;34m\u001b[0m\u001b[0m\n",
            "\u001b[0;31mModuleNotFoundError\u001b[0m: No module named 'pinecone'",
            "",
            "\u001b[0;31m---------------------------------------------------------------------------\u001b[0;32m\nNOTE: If your import is failing due to a missing package, you can\nmanually install dependencies using either !pip or !apt.\n\nTo view examples of installing some common dependencies, click the\n\"Open Examples\" button below.\n\u001b[0;31m---------------------------------------------------------------------------\u001b[0m\n"
          ],
          "errorDetails": {
            "actions": [
              {
                "action": "open_url",
                "actionText": "Open Examples",
                "url": "/notebooks/snippets/importing_libraries.ipynb"
              }
            ]
          }
        }
      ]
    },
    {
      "cell_type": "code",
      "source": [
        "from tqdm.auto import tqdm"
      ],
      "metadata": {
        "id": "sgbtda5htWKv"
      },
      "execution_count": null,
      "outputs": []
    },
    {
      "cell_type": "code",
      "source": [
        "dataset = load_dataset('quora', split='train[240000:290000]')"
      ],
      "metadata": {
        "id": "mpxe1v45tawA"
      },
      "execution_count": null,
      "outputs": []
    },
    {
      "cell_type": "code",
      "source": [
        "dataset[:5]"
      ],
      "metadata": {
        "id": "RhurXZAEtbPz"
      },
      "execution_count": null,
      "outputs": []
    },
    {
      "cell_type": "code",
      "source": [
        "questions = []\n",
        "for record in dataset['questions']:\n",
        "    questions.extend(record['text'])\n",
        "question = list(set(questions))\n",
        "print('\\n'.join(questions[:10]))\n",
        "print('-' * 50)\n",
        "print(f'Number of questions: {len(questions)}')"
      ],
      "metadata": {
        "id": "XdnhhhgitfVS"
      },
      "execution_count": null,
      "outputs": []
    },
    {
      "cell_type": "markdown",
      "source": [
        "Check cuda and Setup the model\n",
        "Note: \"Checking cuda\" refers to checking if you have access to GPUs (faster compute). In this course, we are using CPUs. So, you might notice some code cells taking a little longer to run.\n",
        "\n",
        "I am using all-MiniLM-L6-v2 sentence-transformers model that maps sentences to a 384 dimensional dense vector space."
      ],
      "metadata": {
        "id": "Q8zXziF1thit"
      }
    },
    {
      "cell_type": "code",
      "source": [],
      "metadata": {
        "id": "NPucSTV3tn_g"
      },
      "execution_count": null,
      "outputs": []
    }
  ]
}